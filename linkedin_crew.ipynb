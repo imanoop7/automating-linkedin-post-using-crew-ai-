{
 "cells": [
  {
   "cell_type": "code",
   "execution_count": 1,
   "metadata": {},
   "outputs": [
    {
     "name": "stderr",
     "output_type": "stream",
     "text": [
      "c:\\Users\\Anoop Maurya\\Documents\\GitHub\\automating-linkedin-post-using-crew-ai-\\.venv\\Lib\\site-packages\\pydantic\\_internal\\_config.py:341: UserWarning: Valid config keys have changed in V2:\n",
      "* 'allow_population_by_field_name' has been renamed to 'populate_by_name'\n",
      "* 'smart_union' has been removed\n",
      "  warnings.warn(message, UserWarning)\n"
     ]
    }
   ],
   "source": [
    "import os \n",
    "from crewai import Agent, Task, Crew, Process\n",
    "from langchain.tools import DuckDuckGoSearchRun\n",
    "from langchain_community.llms import Ollama"
   ]
  },
  {
   "cell_type": "code",
   "execution_count": 2,
   "metadata": {},
   "outputs": [],
   "source": [
    "llm = Ollama(\n",
    "    model ='phi3'\n",
    ")\n",
    "search_tool = DuckDuckGoSearchRun()"
   ]
  },
  {
   "cell_type": "code",
   "execution_count": 3,
   "metadata": {},
   "outputs": [],
   "source": [
    "coach = Agent(\n",
    "    role =\" Senior Career Coach\",\n",
    "    goal = \"Discover and examine key tech and AI career skills for 2024\",\n",
    "    backstory = \"You're an expert in spotting new trends and essential skills in AI an technology\",\n",
    "    verbose = True,\n",
    "    allow_delegation = False,\n",
    "    tools =[search_tool],\n",
    "    llm = llm\n",
    ")\n",
    "\n",
    "influencer = Agent(\n",
    "    role =\"LInkedIn Influencer Writer\",\n",
    "    goal = \" Write catchy, emoji-filled LinkedIN posts within 200 words\",\n",
    "    backstory = \"You're a specialised writer on linkedin, focusing on AI and technology\",\n",
    "    verbose = True,\n",
    "    allow_delegation = True,\n",
    "    llm = llm\n",
    "\n",
    ")\n",
    "\n",
    "critic = Agent(\n",
    "    role = \"Expert Writing Critc\",\n",
    "    goal = \"Give constructive feedback on your post drafts\",\n",
    "    backstory = \"You're skilled in offering straightforward, effective advice to tech writers. Ensure posts are concise, under 200 words, with emojis and hastags\",\n",
    "    verbose = True,\n",
    "    allow_delegation = True,\n",
    "    llm = llm\n",
    ")\n",
    "\n",
    "\n",
    "\n"
   ]
  },
  {
   "cell_type": "code",
   "execution_count": 4,
   "metadata": {},
   "outputs": [],
   "source": [
    "task_search =Task(\n",
    "    description =\"Compile a report listing at least 5 key tech skills and AI skills, persented in bullet points\",\n",
    "    agent =coach,\n",
    "    expected_output = \"Write a LinkedIn post with at least 5 key tech skills and AI skills, persented in bullet points\"\n",
    ")\n",
    "\n",
    "\n",
    "task_post = Task(\n",
    "    description = \"Create a LinkedIN podt with a brief headline and a maximum of 200 words, focusing on upcoming AI and tech skills\",\n",
    "    agent =influencer,\n",
    "    expected_output = \"Write a LinkedIn post with a brief headline and a maximum of 200 words, focusing on upcoming AI and tech skills\"\n",
    ")\n",
    "\n",
    "task_critique = Task(\n",
    "    description = \"Refine the post for brevity, ensuring an engaging headline (no more than 30 characters) and keeping within a 200-word limit\",\n",
    "    agent =critic,\n",
    "    expected_output = \"Write a LinkedIn post with a brief headline and a maximum of 200 words, focusing on upcoming AI and tech skills\"\n",
    ")"
   ]
  },
  {
   "cell_type": "code",
   "execution_count": 5,
   "metadata": {},
   "outputs": [],
   "source": [
    "crew = Crew(\n",
    "    agents=[coach,influencer,critic],\n",
    "    tasks=[task_search,task_post,task_critique],\n",
    "    verbose=True,\n",
    "    process=Process.sequential\n",
    ")"
   ]
  },
  {
   "cell_type": "code",
   "execution_count": 6,
   "metadata": {},
   "outputs": [
    {
     "name": "stdout",
     "output_type": "stream",
     "text": [
      "\u001b[1m\u001b[95m [2024-09-02 21:15:05][DEBUG]: == Working Agent:  Senior Career Coach\u001b[00m\n",
      "\u001b[1m\u001b[95m [2024-09-02 21:15:05][INFO]: == Starting Task: Compile a report listing at least 5 key tech skills and AI skills, persented in bullet points\u001b[00m\n",
      "\n",
      "\n",
      "\u001b[1m> Entering new CrewAgentExecutor chain...\u001b[0m\n",
      "\u001b[32;1m\u001b[1;3mThought: I need to identify key tech and AI skills for 2 Points in 2024 that will be essential in the industry.\n",
      "Action: duckduckgo_search\n",
      "Action Input: {‘query’: {'title': 'key technology skills for AI professionals 2024', 'description': 'search query to look up key tech and AI skills needed for 2024', 'type': 'string'}}\u001b[0m\u001b[91m \n",
      "\n",
      "I encountered an error while trying to use the tool. This was the error: 1 validation error for DDGInput\n",
      "query\n",
      "  field required (type=value_error.missing).\n",
      " Tool duckduckgo_search accepts these inputs: A wrapper around DuckDuckGo Search. Useful for when you need to answer questions about current events. Input should be a search query.\n",
      "\u001b[00m\n",
      "\u001b[32;1m\u001b[1;3mThought: To compile the report on key tech skills and AI skills for 2024, I need up-to Points information from a credible source.\n",
      "Action: duckduckgo_search\n",
      "Action Input: {‘query’: {'title': 'top technology trends and essential skills in AI for 2024', 'description': 'Search query to find the latest trends and essential skills required in AI for 2024', 'type': 'string'}}\u001b[0m\u001b[91m \n",
      "\n",
      "I encountered an error while trying to use the tool. This was the error: 1 validation error for DDGInput\n",
      "query\n",
      "  field required (type=value_error.missing).\n",
      " Tool duckduckgo_search accepts these inputs: A wrapper around DuckDuckGo Search. Useful for when you need to answer questions about current events. Input should be a search query.\n",
      "\u001b[00m\n"
     ]
    }
   ],
   "source": [
    "results = crew.kickoff()"
   ]
  },
  {
   "cell_type": "code",
   "execution_count": null,
   "metadata": {},
   "outputs": [],
   "source": [
    "print(results)"
   ]
  },
  {
   "cell_type": "code",
   "execution_count": null,
   "metadata": {},
   "outputs": [],
   "source": []
  }
 ],
 "metadata": {
  "kernelspec": {
   "display_name": "Python 3",
   "language": "python",
   "name": "python3"
  },
  "language_info": {
   "codemirror_mode": {
    "name": "ipython",
    "version": 3
   },
   "file_extension": ".py",
   "mimetype": "text/x-python",
   "name": "python",
   "nbconvert_exporter": "python",
   "pygments_lexer": "ipython3",
   "version": "3.12.3"
  }
 },
 "nbformat": 4,
 "nbformat_minor": 2
}
