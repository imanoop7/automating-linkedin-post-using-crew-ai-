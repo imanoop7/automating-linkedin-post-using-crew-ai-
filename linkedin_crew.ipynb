{
 "cells": [
  {
   "cell_type": "code",
   "execution_count": 1,
   "metadata": {},
   "outputs": [
    {
     "name": "stderr",
     "output_type": "stream",
     "text": [
      "c:\\Users\\Anoop Maurya\\AppData\\Local\\Programs\\Python\\Python312\\Lib\\site-packages\\tqdm\\auto.py:21: TqdmWarning: IProgress not found. Please update jupyter and ipywidgets. See https://ipywidgets.readthedocs.io/en/stable/user_install.html\n",
      "  from .autonotebook import tqdm as notebook_tqdm\n",
      "c:\\Users\\Anoop Maurya\\AppData\\Local\\Programs\\Python\\Python312\\Lib\\site-packages\\pydantic\\_internal\\_config.py:341: UserWarning: Valid config keys have changed in V2:\n",
      "* 'allow_population_by_field_name' has been renamed to 'populate_by_name'\n",
      "* 'smart_union' has been removed\n",
      "  warnings.warn(message, UserWarning)\n"
     ]
    }
   ],
   "source": [
    "import os \n",
    "from crewai import Agent, Task, Crew, Process\n",
    "from langchain.tools import DuckDuckGoSearchRun\n",
    "from langchain_community.llms import Ollama"
   ]
  },
  {
   "cell_type": "code",
   "execution_count": 1,
   "metadata": {},
   "outputs": [
    {
     "ename": "NameError",
     "evalue": "name 'Ollama' is not defined",
     "output_type": "error",
     "traceback": [
      "\u001b[1;31m---------------------------------------------------------------------------\u001b[0m",
      "\u001b[1;31mNameError\u001b[0m                                 Traceback (most recent call last)",
      "Cell \u001b[1;32mIn[1], line 1\u001b[0m\n\u001b[1;32m----> 1\u001b[0m llm \u001b[38;5;241m=\u001b[39m \u001b[43mOllama\u001b[49m(\n\u001b[0;32m      2\u001b[0m     model \u001b[38;5;241m=\u001b[39m\u001b[38;5;124m'\u001b[39m\u001b[38;5;124mphi3\u001b[39m\u001b[38;5;124m'\u001b[39m\n\u001b[0;32m      3\u001b[0m )\n\u001b[0;32m      4\u001b[0m search_tool \u001b[38;5;241m=\u001b[39m DuckDuckGoSearchRun()\n",
      "\u001b[1;31mNameError\u001b[0m: name 'Ollama' is not defined"
     ]
    }
   ],
   "source": [
    "llm = Ollama(\n",
    "    model ='phi3'\n",
    ")\n",
    "search_tool = DuckDuckGoSearchRun()"
   ]
  },
  {
   "cell_type": "code",
   "execution_count": null,
   "metadata": {},
   "outputs": [],
   "source": [
    "coach = Agent(\n",
    "    role =\" Senior Career Coach\",\n",
    "    goal = \"Discover and examine key tech and AI career skills for 2024\",\n",
    "    backstory = \"You're an expert in spotting new trends and essential skills in AI an technology\",\n",
    "    verbose = True,\n",
    "    allow_delegation = False,\n",
    "    tools =[search_tool],\n",
    "    llm = llm\n",
    ")\n",
    "\n",
    "influencer = Agent(\n",
    "    role =\"LInkedIn Influencer Writer\",\n",
    "    goal = \" Write catchy, emoji-filled LinkedIN posts within 200 words\",\n",
    "    backstory = \"You're a specialised writer on linkedin, focusing on AI and technology\",\n",
    "    verbose = True,\n",
    "    allow_delegation = True,\n",
    "    llm = llm\n",
    "\n",
    ")\n",
    "\n"
   ]
  }
 ],
 "metadata": {
  "kernelspec": {
   "display_name": "Python 3",
   "language": "python",
   "name": "python3"
  },
  "language_info": {
   "codemirror_mode": {
    "name": "ipython",
    "version": 3
   },
   "file_extension": ".py",
   "mimetype": "text/x-python",
   "name": "python",
   "nbconvert_exporter": "python",
   "pygments_lexer": "ipython3",
   "version": "3.12.3"
  }
 },
 "nbformat": 4,
 "nbformat_minor": 2
}
