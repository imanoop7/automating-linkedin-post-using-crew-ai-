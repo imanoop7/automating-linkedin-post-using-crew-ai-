{
 "cells": [
  {
   "cell_type": "code",
   "execution_count": 1,
   "metadata": {},
   "outputs": [
    {
     "name": "stderr",
     "output_type": "stream",
     "text": [
      "c:\\Users\\Anoop Maurya\\Documents\\GitHub\\automating-linkedin-post-using-crew-ai-\\.venv\\Lib\\site-packages\\pydantic\\_internal\\_config.py:341: UserWarning: Valid config keys have changed in V2:\n",
      "* 'allow_population_by_field_name' has been renamed to 'populate_by_name'\n",
      "* 'smart_union' has been removed\n",
      "  warnings.warn(message, UserWarning)\n"
     ]
    }
   ],
   "source": [
    "import os \n",
    "from crewai import Agent, Task, Crew, Process\n",
    "from langchain.tools import DuckDuckGoSearchRun\n",
    "from langchain_community.llms import Ollama"
   ]
  },
  {
   "cell_type": "code",
   "execution_count": 2,
   "metadata": {},
   "outputs": [],
   "source": [
    "llm = Ollama(\n",
    "    model ='phi3'\n",
    ")\n",
    "search_tool = DuckDuckGoSearchRun()"
   ]
  },
  {
   "cell_type": "code",
   "execution_count": 4,
   "metadata": {},
   "outputs": [],
   "source": [
    "coach = Agent(\n",
    "    role =\" Senior Career Coach\",\n",
    "    goal = \"Discover and examine key tech and AI career skills for 2024\",\n",
    "    backstory = \"You're an expert in spotting new trends and essential skills in AI an technology\",\n",
    "    verbose = True,\n",
    "    allow_delegation = False,\n",
    "    tools =[search_tool],\n",
    "    llm = llm\n",
    ")\n",
    "\n",
    "influencer = Agent(\n",
    "    role =\"LInkedIn Influencer Writer\",\n",
    "    goal = \" Write catchy, emoji-filled LinkedIN posts within 200 words\",\n",
    "    backstory = \"You're a specialised writer on linkedin, focusing on AI and technology\",\n",
    "    verbose = True,\n",
    "    allow_delegation = True,\n",
    "    llm = llm\n",
    "\n",
    ")\n",
    "\n",
    "critic = Agent(\n",
    "    role = \"Expert Writing Critc\",\n",
    "    goal = \"Give constructive feedback on your post drafts\",\n",
    "    backstory = \"You're skilled in offering straightforward, effective advice to tech writers. Ensure posts are concise, under 200 words, with emojis and hastags\",\n",
    "    verbose = True,\n",
    "    allow_delegation = True,\n",
    "    llm = llm\n",
    ")\n",
    "\n",
    "\n",
    "\n"
   ]
  },
  {
   "cell_type": "code",
   "execution_count": 7,
   "metadata": {},
   "outputs": [],
   "source": [
    "task_search =Task(\n",
    "    description =\"Compile a report listing at least 5 key tech skills and AI skills, persented in bullet points\",\n",
    "    agent =coach,\n",
    "    expected_output = \"Write a LinkedIn post with at least 5 key tech skills and AI skills, persented in bullet points\"\n",
    ")\n",
    "\n",
    "\n",
    "task_post = Task(\n",
    "    description = \"Create a LinkedIN podt with a brief headline and a maximum of 200 words, focusing on upcoming AI and tech skills\",\n",
    "    agent =influencer,\n",
    "    expected_output = \"Write a LinkedIn post with a brief headline and a maximum of 200 words, focusing on upcoming AI and tech skills\"\n",
    ")\n",
    "\n",
    "task_critique = Task(\n",
    "    description = \"Refine the post for brevity, ensuring an engaging headline (no more than 30 characters) and keeping within a 200-word limit\",\n",
    "    agent =critic,\n",
    "    expected_output = \"Write a LinkedIn post with a brief headline and a maximum of 200 words, focusing on upcoming AI and tech skills\"\n",
    ")"
   ]
  },
  {
   "cell_type": "code",
   "execution_count": 10,
   "metadata": {},
   "outputs": [],
   "source": [
    "crew = Crew(\n",
    "    agents=[coach,influencer,critic],\n",
    "    tasks=[task_search,task_post,task_critique],\n",
    "    verbose=True,\n",
    "    process=Process.sequential\n",
    ")"
   ]
  },
  {
   "cell_type": "code",
   "execution_count": 11,
   "metadata": {},
   "outputs": [
    {
     "name": "stdout",
     "output_type": "stream",
     "text": [
      "\u001b[1m\u001b[95m [2024-09-01 09:40:32][DEBUG]: == Working Agent:  Senior Career Coach\u001b[00m\n",
      "\u001b[1m\u001b[95m [2024-09-01 09:40:32][INFO]: == Starting Task: Compile a report listing at least 5 key tech skills and AI skills, persented in bullet points\u001b[00m\n",
      "\n",
      "\n",
      "\u001b[1m> Entering new CrewAgentExecutor chain...\u001b[0m\n",
      "\u001b[32;1m\u001b[1;3mThought: To compile an informative LinkedIn post about key tech skills and AI skills for 2 Market trends in 2024.\n",
      "Action: duckduckgo_search\n",
      "Action Input: {'query': 'key technology career skills needed in 2024', 'title': 'Key Technology Career Skills Needed in 2024'}\u001b[0m\u001b[95m \n",
      "\n",
      "Linux Containers Pathway (16 courses, 127 hands-on labs, 1 practice exam) 8. Docker. Docker is the bee's knees. You can package applications and their dependencies in a virtual container, then be sure this is going to run seamlessly in someone else's environment. It's simple, portable, and handy. 2. Analytical Skills. Possessing strong analytical skills is an important function of high-performing professionals who have a growth mindset, because to grow, make sense of lessons learned, and ... Trend #5: Skills for understanding and communicating data continue to be among the fastest-growing. Data visualization was a top fastest-growing digital skill last year—and the trend continues in 2024. Research shows that 70% of employees will be expected to heavily use data by 2025 but only 11% of employees are confident in their ability to ... Read on to find the 10 skills that are most sought-after by employers in today's job market, as well as the \"skill of the moment\" for 2024. These are top skills employers prioritized when ... All these factors mean that skills around building security and resilience will be some of the most in demand in 2024. Follow me on Twitter or LinkedIn. Check out my website or some of my other ...\n",
      "\u001b[00m\n",
      "\u001b[32;1m\u001b[1;3m\n",
      "**Final Answer:**\n",
      "\n",
      "LinkedIn Post Content:\n",
      "\n",
      "As we look towards 2024, it's crucial for tech professionals and AI enthusiasts to stay ahead of the curve. Here are five key technology skills and AI-related abilities that will be in high demand this year:\n",
      "\n",
      "• **Docker Proficiency**: Docker containers have become a cornerstone of modern software development, offering an effective way to package applications with all their dependencies for seamless execution across diverse environments. Mastery over Docker can significantly enhance your portability and productivity.\n",
      "\n",
      "\n",
      "• **Analytical Acumen**: A robust analytical skill set is essential in making sense of complex data sets, driving informed decision-making, and providing strategic insights that propel organizations forward. In 2024, the ability to understand, interpret, and communicate data will be highly sought after.\n",
      "\n",
      "\n",
      "• **Data Visualization Expertise**: The art of transforming raw data into clear, actionable visuals is a rapidly growing skill set that enables better communication of complex information. As organizations rely more on data-driven decision making, expertise in data visualization will be key to success.\n",
      "\n",
      "\n",
      "• **Cybersecurity Knowledge**: With increasing digital threats and the need for resilience against cyber attacks, a deep understanding of security protocols, risk management, and threat detection is becoming indispinasive for professionals in technology fields.\n",
      "\n",
      "\n",
      "• **AI & Machine Learning Mastery**: AI's influence on various industries continues to expand, making knowledge in AI algorithms, machine learning techniques, and data science principles a valuable asset. Proficiency in these areas can lead to innovation and efficiency gains across sectors.\n",
      "\n",
      "Stay at the forefront of tech careers by upskilling now! #TechSkills2024 #AIRevolution #FutureOfWork\u001b[0m\n",
      "\n",
      "\u001b[1m> Finished chain.\u001b[0m\n",
      "\u001b[1m\u001b[92m [2024-09-01 09:52:49][DEBUG]: == [ Senior Career Coach] Task output: **\n",
      "\n",
      "LinkedIn Post Content:\n",
      "\n",
      "As we look towards 2024, it's crucial for tech professionals and AI enthusiasts to stay ahead of the curve. Here are five key technology skills and AI-related abilities that will be in high demand this year:\n",
      "\n",
      "• **Docker Proficiency**: Docker containers have become a cornerstone of modern software development, offering an effective way to package applications with all their dependencies for seamless execution across diverse environments. Mastery over Docker can significantly enhance your portability and productivity.\n",
      "\n",
      "\n",
      "• **Analytical Acumen**: A robust analytical skill set is essential in making sense of complex data sets, driving informed decision-making, and providing strategic insights that propel organizations forward. In 2024, the ability to understand, interpret, and communicate data will be highly sought after.\n",
      "\n",
      "\n",
      "• **Data Visualization Expertise**: The art of transforming raw data into clear, actionable visuals is a rapidly growing skill set that enables better communication of complex information. As organizations rely more on data-driven decision making, expertise in data visualization will be key to success.\n",
      "\n",
      "\n",
      "• **Cybersecurity Knowledge**: With increasing digital threats and the need for resilience against cyber attacks, a deep understanding of security protocols, risk management, and threat detection is becoming indispinasive for professionals in technology fields.\n",
      "\n",
      "\n",
      "• **AI & Machine Learning Mastery**: AI's influence on various industries continues to expand, making knowledge in AI algorithms, machine learning techniques, and data science principles a valuable asset. Proficiency in these areas can lead to innovation and efficiency gains across sectors.\n",
      "\n",
      "Stay at the forefront of tech careers by upskilling now! #TechSkills2024 #AIRevolution #FutureOfWork\n",
      "\n",
      "\u001b[00m\n",
      "\u001b[1m\u001b[95m [2024-09-01 09:52:49][DEBUG]: == Working Agent: LInkedIn Influencer Writer\u001b[00m\n",
      "\u001b[1m\u001b[95m [2024-09-01 09:52:49][INFO]: == Starting Task: Create a LinkedIN podt with a brief headline and a maximum of 200 words, focusing on upcoming AI and tech skills\u001b[00m\n",
      "\n",
      "\n",
      "\u001b[1m> Entering new CrewAgentExecutor chain...\u001b[0m\n"
     ]
    }
   ],
   "source": [
    "results = crew.kickoff()"
   ]
  },
  {
   "cell_type": "code",
   "execution_count": null,
   "metadata": {},
   "outputs": [],
   "source": [
    "print(results)"
   ]
  },
  {
   "cell_type": "code",
   "execution_count": null,
   "metadata": {},
   "outputs": [],
   "source": []
  }
 ],
 "metadata": {
  "kernelspec": {
   "display_name": "Python 3",
   "language": "python",
   "name": "python3"
  },
  "language_info": {
   "codemirror_mode": {
    "name": "ipython",
    "version": 3
   },
   "file_extension": ".py",
   "mimetype": "text/x-python",
   "name": "python",
   "nbconvert_exporter": "python",
   "pygments_lexer": "ipython3",
   "version": "3.12.3"
  }
 },
 "nbformat": 4,
 "nbformat_minor": 2
}
